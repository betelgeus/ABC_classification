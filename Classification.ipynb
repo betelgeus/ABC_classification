{
 "cells": [
  {
   "cell_type": "markdown",
   "source": [
    "### Requirements"
   ],
   "metadata": {
    "collapsed": false
   }
  },
  {
   "cell_type": "code",
   "execution_count": 54,
   "outputs": [
    {
     "name": "stdout",
     "output_type": "stream",
     "text": [
      "Collecting ultralytics\r\n",
      "  Downloading ultralytics-8.0.142-py3-none-any.whl (607 kB)\r\n",
      "\u001B[2K     \u001B[90m━━━━━━━━━━━━━━━━━━━━━━━━━━━━━━━━━━━━━━━\u001B[0m \u001B[32m608.0/608.0 kB\u001B[0m \u001B[31m1.6 MB/s\u001B[0m eta \u001B[36m0:00:00\u001B[0ma \u001B[36m0:00:01\u001B[0m\r\n",
      "\u001B[?25hCollecting matplotlib>=3.2.2\r\n",
      "  Using cached matplotlib-3.7.2-cp311-cp311-macosx_10_12_x86_64.whl (7.4 MB)\r\n",
      "Collecting opencv-python>=4.6.0\r\n",
      "  Using cached opencv-python-4.8.0.74.tar.gz (92.1 MB)\r\n",
      "  Installing build dependencies ... \u001B[?25lerror\r\n",
      "  \u001B[1;31merror\u001B[0m: \u001B[1msubprocess-exited-with-error\u001B[0m\r\n",
      "  \r\n",
      "  \u001B[31m×\u001B[0m \u001B[32mpip subprocess to install build dependencies\u001B[0m did not run successfully.\r\n",
      "  \u001B[31m│\u001B[0m exit code: \u001B[1;36m1\u001B[0m\r\n",
      "  \u001B[31m╰─>\u001B[0m \u001B[31m[214 lines of output]\u001B[0m\r\n",
      "  \u001B[31m   \u001B[0m Ignoring numpy: markers 'python_version == \"3.6\" and platform_machine != \"aarch64\" and platform_machine != \"arm64\"' don't match your environment\r\n",
      "  \u001B[31m   \u001B[0m Ignoring numpy: markers 'python_version == \"3.7\" and platform_machine != \"aarch64\" and platform_machine != \"arm64\"' don't match your environment\r\n",
      "  \u001B[31m   \u001B[0m Ignoring numpy: markers 'python_version == \"3.8\" and platform_machine != \"aarch64\" and platform_machine != \"arm64\"' don't match your environment\r\n",
      "  \u001B[31m   \u001B[0m Ignoring numpy: markers 'python_version <= \"3.9\" and sys_platform == \"linux\" and platform_machine == \"aarch64\"' don't match your environment\r\n",
      "  \u001B[31m   \u001B[0m Ignoring numpy: markers 'python_version <= \"3.9\" and sys_platform == \"darwin\" and platform_machine == \"arm64\"' don't match your environment\r\n",
      "  \u001B[31m   \u001B[0m Ignoring numpy: markers 'python_version == \"3.9\" and platform_machine != \"aarch64\" and platform_machine != \"arm64\"' don't match your environment\r\n",
      "  \u001B[31m   \u001B[0m Ignoring numpy: markers 'python_version == \"3.10\" and platform_system != \"Darwin\"' don't match your environment\r\n",
      "  \u001B[31m   \u001B[0m Ignoring numpy: markers 'python_version == \"3.10\" and platform_system == \"Darwin\"' don't match your environment\r\n",
      "  \u001B[31m   \u001B[0m Collecting cmake>=3.1\r\n",
      "  \u001B[31m   \u001B[0m   Using cached cmake-3.27.0-py2.py3-none-macosx_10_10_universal2.macosx_10_10_x86_64.macosx_11_0_arm64.macosx_11_0_universal2.whl (47.4 MB)\r\n",
      "  \u001B[31m   \u001B[0m Collecting numpy==1.22.2\r\n",
      "  \u001B[31m   \u001B[0m   Using cached numpy-1.22.2.zip (11.4 MB)\r\n",
      "  \u001B[31m   \u001B[0m   Installing build dependencies: started\r\n",
      "  \u001B[31m   \u001B[0m   Installing build dependencies: finished with status 'done'\r\n",
      "  \u001B[31m   \u001B[0m   Getting requirements to build wheel: started\r\n",
      "  \u001B[31m   \u001B[0m   Getting requirements to build wheel: finished with status 'done'\r\n",
      "  \u001B[31m   \u001B[0m   Preparing metadata (pyproject.toml): started\r\n",
      "  \u001B[31m   \u001B[0m   Preparing metadata (pyproject.toml): finished with status 'done'\r\n",
      "  \u001B[31m   \u001B[0m Collecting pip\r\n",
      "  \u001B[31m   \u001B[0m   Using cached pip-23.2.1-py3-none-any.whl (2.1 MB)\r\n",
      "  \u001B[31m   \u001B[0m Collecting scikit-build>=0.14.0\r\n",
      "  \u001B[31m   \u001B[0m   Using cached scikit_build-0.17.6-py3-none-any.whl (84 kB)\r\n",
      "  \u001B[31m   \u001B[0m Collecting setuptools==59.2.0\r\n",
      "  \u001B[31m   \u001B[0m   Using cached setuptools-59.2.0-py3-none-any.whl (952 kB)\r\n",
      "  \u001B[31m   \u001B[0m Collecting distro\r\n",
      "  \u001B[31m   \u001B[0m   Using cached distro-1.8.0-py3-none-any.whl (20 kB)\r\n",
      "  \u001B[31m   \u001B[0m Collecting packaging\r\n",
      "  \u001B[31m   \u001B[0m   Using cached packaging-23.1-py3-none-any.whl (48 kB)\r\n",
      "  \u001B[31m   \u001B[0m Collecting wheel>=0.32.0\r\n",
      "  \u001B[31m   \u001B[0m   Using cached wheel-0.41.0-py3-none-any.whl (64 kB)\r\n",
      "  \u001B[31m   \u001B[0m Building wheels for collected packages: numpy\r\n",
      "  \u001B[31m   \u001B[0m   Building wheel for numpy (pyproject.toml): started\r\n",
      "  \u001B[31m   \u001B[0m   Building wheel for numpy (pyproject.toml): finished with status 'error'\r\n",
      "  \u001B[31m   \u001B[0m   error: subprocess-exited-with-error\r\n",
      "  \u001B[31m   \u001B[0m \r\n",
      "  \u001B[31m   \u001B[0m   × Building wheel for numpy (pyproject.toml) did not run successfully.\r\n",
      "  \u001B[31m   \u001B[0m   │ exit code: 1\r\n",
      "  \u001B[31m   \u001B[0m   ╰─> [167 lines of output]\r\n",
      "  \u001B[31m   \u001B[0m       setup.py:66: RuntimeWarning: NumPy 1.22.2 may not yet support Python 3.11.\r\n",
      "  \u001B[31m   \u001B[0m         warnings.warn(\r\n",
      "  \u001B[31m   \u001B[0m       Running from numpy source directory.\r\n",
      "  \u001B[31m   \u001B[0m       Processing numpy/random/_bounded_integers.pxd.in\r\n",
      "  \u001B[31m   \u001B[0m       Processing numpy/random/_philox.pyx\r\n",
      "  \u001B[31m   \u001B[0m       Processing numpy/random/_bounded_integers.pyx.in\r\n",
      "  \u001B[31m   \u001B[0m       Processing numpy/random/_sfc64.pyx\r\n",
      "  \u001B[31m   \u001B[0m       Processing numpy/random/_mt19937.pyx\r\n",
      "  \u001B[31m   \u001B[0m       Processing numpy/random/bit_generator.pyx\r\n",
      "  \u001B[31m   \u001B[0m       Processing numpy/random/mtrand.pyx\r\n",
      "  \u001B[31m   \u001B[0m       Processing numpy/random/_generator.pyx\r\n",
      "  \u001B[31m   \u001B[0m       Processing numpy/random/_pcg64.pyx\r\n",
      "  \u001B[31m   \u001B[0m       Processing numpy/random/_common.pyx\r\n",
      "  \u001B[31m   \u001B[0m       Cythonizing sources\r\n",
      "  \u001B[31m   \u001B[0m       INFO: blas_opt_info:\r\n",
      "  \u001B[31m   \u001B[0m       INFO: blas_armpl_info:\r\n",
      "  \u001B[31m   \u001B[0m       INFO: customize UnixCCompiler\r\n",
      "  \u001B[31m   \u001B[0m       INFO:   libraries armpl_lp64_mp not found in ['/Users/mitya/ABC_detection/lib', '/usr/local/lib', '/usr/lib']\r\n",
      "  \u001B[31m   \u001B[0m       INFO:   NOT AVAILABLE\r\n",
      "  \u001B[31m   \u001B[0m       INFO:\r\n",
      "  \u001B[31m   \u001B[0m       INFO: blas_mkl_info:\r\n",
      "  \u001B[31m   \u001B[0m       INFO:   libraries mkl_rt not found in ['/Users/mitya/ABC_detection/lib', '/usr/local/lib', '/usr/lib']\r\n",
      "  \u001B[31m   \u001B[0m       INFO:   NOT AVAILABLE\r\n",
      "  \u001B[31m   \u001B[0m       INFO:\r\n",
      "  \u001B[31m   \u001B[0m       INFO: blis_info:\r\n",
      "  \u001B[31m   \u001B[0m       INFO:   libraries blis not found in ['/Users/mitya/ABC_detection/lib', '/usr/local/lib', '/usr/lib']\r\n",
      "  \u001B[31m   \u001B[0m       INFO:   NOT AVAILABLE\r\n",
      "  \u001B[31m   \u001B[0m       INFO:\r\n",
      "  \u001B[31m   \u001B[0m       INFO: openblas_info:\r\n",
      "  \u001B[31m   \u001B[0m       INFO:   libraries openblas not found in ['/Users/mitya/ABC_detection/lib', '/usr/local/lib', '/usr/lib']\r\n",
      "  \u001B[31m   \u001B[0m       INFO:   NOT AVAILABLE\r\n",
      "  \u001B[31m   \u001B[0m       INFO:\r\n",
      "  \u001B[31m   \u001B[0m       INFO: accelerate_info:\r\n",
      "  \u001B[31m   \u001B[0m       INFO:   libraries accelerate not found in ['/Users/mitya/ABC_detection/lib', '/usr/local/lib', '/usr/lib']\r\n",
      "  \u001B[31m   \u001B[0m       INFO: Library accelerate was not found. Ignoring\r\n",
      "  \u001B[31m   \u001B[0m       INFO:   libraries veclib not found in ['/Users/mitya/ABC_detection/lib', '/usr/local/lib', '/usr/lib']\r\n",
      "  \u001B[31m   \u001B[0m       INFO: Library veclib was not found. Ignoring\r\n",
      "  \u001B[31m   \u001B[0m       INFO:   FOUND:\r\n",
      "  \u001B[31m   \u001B[0m       INFO:     extra_compile_args = ['-msse3', '-I/System/Library/Frameworks/vecLib.framework/Headers']\r\n",
      "  \u001B[31m   \u001B[0m       INFO:     extra_link_args = ['-Wl,-framework', '-Wl,Accelerate']\r\n",
      "  \u001B[31m   \u001B[0m       INFO:     define_macros = [('NO_ATLAS_INFO', 3), ('HAVE_CBLAS', None)]\r\n",
      "  \u001B[31m   \u001B[0m       INFO:\r\n",
      "  \u001B[31m   \u001B[0m       INFO:   FOUND:\r\n",
      "  \u001B[31m   \u001B[0m       INFO:     extra_compile_args = ['-msse3', '-I/System/Library/Frameworks/vecLib.framework/Headers']\r\n",
      "  \u001B[31m   \u001B[0m       INFO:     extra_link_args = ['-Wl,-framework', '-Wl,Accelerate']\r\n",
      "  \u001B[31m   \u001B[0m       INFO:     define_macros = [('NO_ATLAS_INFO', 3), ('HAVE_CBLAS', None)]\r\n",
      "  \u001B[31m   \u001B[0m       INFO:\r\n",
      "  \u001B[31m   \u001B[0m       non-existing path in 'numpy/distutils': 'site.cfg'\r\n",
      "  \u001B[31m   \u001B[0m       INFO: lapack_opt_info:\r\n",
      "  \u001B[31m   \u001B[0m       INFO: lapack_armpl_info:\r\n",
      "  \u001B[31m   \u001B[0m       INFO:   libraries armpl_lp64_mp not found in ['/Users/mitya/ABC_detection/lib', '/usr/local/lib', '/usr/lib']\r\n",
      "  \u001B[31m   \u001B[0m       INFO:   NOT AVAILABLE\r\n",
      "  \u001B[31m   \u001B[0m       INFO:\r\n",
      "  \u001B[31m   \u001B[0m       INFO: lapack_mkl_info:\r\n",
      "  \u001B[31m   \u001B[0m       INFO:   libraries mkl_rt not found in ['/Users/mitya/ABC_detection/lib', '/usr/local/lib', '/usr/lib']\r\n",
      "  \u001B[31m   \u001B[0m       INFO:   NOT AVAILABLE\r\n",
      "  \u001B[31m   \u001B[0m       INFO:\r\n",
      "  \u001B[31m   \u001B[0m       INFO: openblas_lapack_info:\r\n",
      "  \u001B[31m   \u001B[0m       INFO:   libraries openblas not found in ['/Users/mitya/ABC_detection/lib', '/usr/local/lib', '/usr/lib']\r\n",
      "  \u001B[31m   \u001B[0m       INFO:   NOT AVAILABLE\r\n",
      "  \u001B[31m   \u001B[0m       INFO:\r\n",
      "  \u001B[31m   \u001B[0m       INFO: openblas_clapack_info:\r\n",
      "  \u001B[31m   \u001B[0m       INFO:   libraries openblas,lapack not found in ['/Users/mitya/ABC_detection/lib', '/usr/local/lib', '/usr/lib']\r\n",
      "  \u001B[31m   \u001B[0m       INFO:   NOT AVAILABLE\r\n",
      "  \u001B[31m   \u001B[0m       INFO:\r\n",
      "  \u001B[31m   \u001B[0m       INFO: flame_info:\r\n",
      "  \u001B[31m   \u001B[0m       INFO:   libraries flame not found in ['/Users/mitya/ABC_detection/lib', '/usr/local/lib', '/usr/lib']\r\n",
      "  \u001B[31m   \u001B[0m       INFO:   NOT AVAILABLE\r\n",
      "  \u001B[31m   \u001B[0m       INFO:\r\n",
      "  \u001B[31m   \u001B[0m       INFO:   FOUND:\r\n",
      "  \u001B[31m   \u001B[0m       INFO:     extra_compile_args = ['-msse3', '-I/System/Library/Frameworks/vecLib.framework/Headers']\r\n",
      "  \u001B[31m   \u001B[0m       INFO:     extra_link_args = ['-Wl,-framework', '-Wl,Accelerate']\r\n",
      "  \u001B[31m   \u001B[0m       INFO:     define_macros = [('NO_ATLAS_INFO', 3), ('HAVE_CBLAS', None)]\r\n",
      "  \u001B[31m   \u001B[0m       INFO:\r\n",
      "  \u001B[31m   \u001B[0m       Warning: attempted relative import with no known parent package\r\n",
      "  \u001B[31m   \u001B[0m       /private/var/folders/6v/dfp997q13894cjhs_bzmt6j40000gn/T/pip-build-env-9gpkliup/overlay/lib/python3.11/site-packages/setuptools/_distutils/dist.py:275: UserWarning: Unknown distribution option: 'define_macros'\r\n",
      "  \u001B[31m   \u001B[0m         warnings.warn(msg)\r\n",
      "  \u001B[31m   \u001B[0m       running bdist_wheel\r\n",
      "  \u001B[31m   \u001B[0m       running build\r\n",
      "  \u001B[31m   \u001B[0m       running config_cc\r\n",
      "  \u001B[31m   \u001B[0m       INFO: unifing config_cc, config, build_clib, build_ext, build commands --compiler options\r\n",
      "  \u001B[31m   \u001B[0m       running config_fc\r\n",
      "  \u001B[31m   \u001B[0m       INFO: unifing config_fc, config, build_clib, build_ext, build commands --fcompiler options\r\n",
      "  \u001B[31m   \u001B[0m       running build_src\r\n",
      "  \u001B[31m   \u001B[0m       INFO: build_src\r\n",
      "  \u001B[31m   \u001B[0m       INFO: building py_modules sources\r\n",
      "  \u001B[31m   \u001B[0m       creating build\r\n",
      "  \u001B[31m   \u001B[0m       creating build/src.macosx-10.9-universal2-3.11\r\n",
      "  \u001B[31m   \u001B[0m       creating build/src.macosx-10.9-universal2-3.11/numpy\r\n",
      "  \u001B[31m   \u001B[0m       creating build/src.macosx-10.9-universal2-3.11/numpy/distutils\r\n",
      "  \u001B[31m   \u001B[0m       INFO: building library \"npymath\" sources\r\n",
      "  \u001B[31m   \u001B[0m       WARN: Could not locate executable gfortran\r\n",
      "  \u001B[31m   \u001B[0m       WARN: Could not locate executable f95\r\n",
      "  \u001B[31m   \u001B[0m       WARN: Could not locate executable nagfor\r\n",
      "  \u001B[31m   \u001B[0m       WARN: Could not locate executable f90\r\n",
      "  \u001B[31m   \u001B[0m       WARN: Could not locate executable f77\r\n",
      "  \u001B[31m   \u001B[0m       WARN: Could not locate executable xlf90\r\n",
      "  \u001B[31m   \u001B[0m       WARN: Could not locate executable xlf\r\n",
      "  \u001B[31m   \u001B[0m       WARN: Could not locate executable ifort\r\n",
      "  \u001B[31m   \u001B[0m       WARN: Could not locate executable ifc\r\n",
      "  \u001B[31m   \u001B[0m       WARN: Could not locate executable g77\r\n",
      "  \u001B[31m   \u001B[0m       WARN: Could not locate executable g95\r\n",
      "  \u001B[31m   \u001B[0m       WARN: Could not locate executable pgfortran\r\n",
      "  \u001B[31m   \u001B[0m       WARN: don't know how to compile Fortran code on platform 'posix'\r\n",
      "  \u001B[31m   \u001B[0m       clang-14: error: the clang compiler does not support '-march=core2'\r\n",
      "  \u001B[31m   \u001B[0m       Traceback (most recent call last):\r\n",
      "  \u001B[31m   \u001B[0m         File \"/Users/mitya/ABC_detection/lib/python3.11/site-packages/pip/_vendor/pep517/in_process/_in_process.py\", line 351, in <module>\r\n",
      "  \u001B[31m   \u001B[0m           main()\r\n",
      "  \u001B[31m   \u001B[0m         File \"/Users/mitya/ABC_detection/lib/python3.11/site-packages/pip/_vendor/pep517/in_process/_in_process.py\", line 333, in main\r\n",
      "  \u001B[31m   \u001B[0m           json_out['return_val'] = hook(**hook_input['kwargs'])\r\n",
      "  \u001B[31m   \u001B[0m                                    ^^^^^^^^^^^^^^^^^^^^^^^^^^^^\r\n",
      "  \u001B[31m   \u001B[0m         File \"/Users/mitya/ABC_detection/lib/python3.11/site-packages/pip/_vendor/pep517/in_process/_in_process.py\", line 249, in build_wheel\r\n",
      "  \u001B[31m   \u001B[0m           return _build_backend().build_wheel(wheel_directory, config_settings,\r\n",
      "  \u001B[31m   \u001B[0m                  ^^^^^^^^^^^^^^^^^^^^^^^^^^^^^^^^^^^^^^^^^^^^^^^^^^^^^^^^^^^^^^\r\n",
      "  \u001B[31m   \u001B[0m         File \"/private/var/folders/6v/dfp997q13894cjhs_bzmt6j40000gn/T/pip-build-env-9gpkliup/overlay/lib/python3.11/site-packages/setuptools/build_meta.py\", line 230, in build_wheel\r\n",
      "  \u001B[31m   \u001B[0m           return self._build_with_temp_dir(['bdist_wheel'], '.whl',\r\n",
      "  \u001B[31m   \u001B[0m                  ^^^^^^^^^^^^^^^^^^^^^^^^^^^^^^^^^^^^^^^^^^^^^^^^^^\r\n",
      "  \u001B[31m   \u001B[0m         File \"/private/var/folders/6v/dfp997q13894cjhs_bzmt6j40000gn/T/pip-build-env-9gpkliup/overlay/lib/python3.11/site-packages/setuptools/build_meta.py\", line 215, in _build_with_temp_dir\r\n",
      "  \u001B[31m   \u001B[0m           self.run_setup()\r\n",
      "  \u001B[31m   \u001B[0m         File \"/private/var/folders/6v/dfp997q13894cjhs_bzmt6j40000gn/T/pip-build-env-9gpkliup/overlay/lib/python3.11/site-packages/setuptools/build_meta.py\", line 268, in run_setup\r\n",
      "  \u001B[31m   \u001B[0m           self).run_setup(setup_script=setup_script)\r\n",
      "  \u001B[31m   \u001B[0m                 ^^^^^^^^^^^^^^^^^^^^^^^^^^^^^^^^^^^^\r\n",
      "  \u001B[31m   \u001B[0m         File \"/private/var/folders/6v/dfp997q13894cjhs_bzmt6j40000gn/T/pip-build-env-9gpkliup/overlay/lib/python3.11/site-packages/setuptools/build_meta.py\", line 158, in run_setup\r\n",
      "  \u001B[31m   \u001B[0m           exec(compile(code, __file__, 'exec'), locals())\r\n",
      "  \u001B[31m   \u001B[0m         File \"setup.py\", line 461, in <module>\r\n",
      "  \u001B[31m   \u001B[0m           setup_package()\r\n",
      "  \u001B[31m   \u001B[0m         File \"setup.py\", line 453, in setup_package\r\n",
      "  \u001B[31m   \u001B[0m           setup(**metadata)\r\n",
      "  \u001B[31m   \u001B[0m         File \"/private/var/folders/6v/dfp997q13894cjhs_bzmt6j40000gn/T/pip-install-azpnz_3i/numpy_a03c1500f0a946b8a68c1d892c3dd6b5/numpy/distutils/core.py\", line 169, in setup\r\n",
      "  \u001B[31m   \u001B[0m           return old_setup(**new_attr)\r\n",
      "  \u001B[31m   \u001B[0m                  ^^^^^^^^^^^^^^^^^^^^^\r\n",
      "  \u001B[31m   \u001B[0m         File \"/private/var/folders/6v/dfp997q13894cjhs_bzmt6j40000gn/T/pip-build-env-9gpkliup/overlay/lib/python3.11/site-packages/setuptools/__init__.py\", line 153, in setup\r\n",
      "  \u001B[31m   \u001B[0m           return distutils.core.setup(**attrs)\r\n",
      "  \u001B[31m   \u001B[0m                  ^^^^^^^^^^^^^^^^^^^^^^^^^^^^^\r\n",
      "  \u001B[31m   \u001B[0m         File \"/private/var/folders/6v/dfp997q13894cjhs_bzmt6j40000gn/T/pip-build-env-9gpkliup/overlay/lib/python3.11/site-packages/setuptools/_distutils/core.py\", line 148, in setup\r\n",
      "  \u001B[31m   \u001B[0m           dist.run_commands()\r\n",
      "  \u001B[31m   \u001B[0m         File \"/private/var/folders/6v/dfp997q13894cjhs_bzmt6j40000gn/T/pip-build-env-9gpkliup/overlay/lib/python3.11/site-packages/setuptools/_distutils/dist.py\", line 967, in run_commands\r\n",
      "  \u001B[31m   \u001B[0m           self.run_command(cmd)\r\n",
      "  \u001B[31m   \u001B[0m         File \"/private/var/folders/6v/dfp997q13894cjhs_bzmt6j40000gn/T/pip-build-env-9gpkliup/overlay/lib/python3.11/site-packages/setuptools/_distutils/dist.py\", line 986, in run_command\r\n",
      "  \u001B[31m   \u001B[0m           cmd_obj.run()\r\n",
      "  \u001B[31m   \u001B[0m         File \"/private/var/folders/6v/dfp997q13894cjhs_bzmt6j40000gn/T/pip-build-env-9gpkliup/overlay/lib/python3.11/site-packages/wheel/bdist_wheel.py\", line 299, in run\r\n",
      "  \u001B[31m   \u001B[0m           self.run_command('build')\r\n",
      "  \u001B[31m   \u001B[0m         File \"/private/var/folders/6v/dfp997q13894cjhs_bzmt6j40000gn/T/pip-build-env-9gpkliup/overlay/lib/python3.11/site-packages/setuptools/_distutils/cmd.py\", line 313, in run_command\r\n",
      "  \u001B[31m   \u001B[0m           self.distribution.run_command(command)\r\n",
      "  \u001B[31m   \u001B[0m         File \"/private/var/folders/6v/dfp997q13894cjhs_bzmt6j40000gn/T/pip-build-env-9gpkliup/overlay/lib/python3.11/site-packages/setuptools/_distutils/dist.py\", line 986, in run_command\r\n",
      "  \u001B[31m   \u001B[0m           cmd_obj.run()\r\n",
      "  \u001B[31m   \u001B[0m         File \"/private/var/folders/6v/dfp997q13894cjhs_bzmt6j40000gn/T/pip-install-azpnz_3i/numpy_a03c1500f0a946b8a68c1d892c3dd6b5/numpy/distutils/command/build.py\", line 61, in run\r\n",
      "  \u001B[31m   \u001B[0m           old_build.run(self)\r\n",
      "  \u001B[31m   \u001B[0m         File \"/private/var/folders/6v/dfp997q13894cjhs_bzmt6j40000gn/T/pip-build-env-9gpkliup/overlay/lib/python3.11/site-packages/setuptools/_distutils/command/build.py\", line 135, in run\r\n",
      "  \u001B[31m   \u001B[0m           self.run_command(cmd_name)\r\n",
      "  \u001B[31m   \u001B[0m         File \"/private/var/folders/6v/dfp997q13894cjhs_bzmt6j40000gn/T/pip-build-env-9gpkliup/overlay/lib/python3.11/site-packages/setuptools/_distutils/cmd.py\", line 313, in run_command\r\n",
      "  \u001B[31m   \u001B[0m           self.distribution.run_command(command)\r\n",
      "  \u001B[31m   \u001B[0m         File \"/private/var/folders/6v/dfp997q13894cjhs_bzmt6j40000gn/T/pip-build-env-9gpkliup/overlay/lib/python3.11/site-packages/setuptools/_distutils/dist.py\", line 986, in run_command\r\n",
      "  \u001B[31m   \u001B[0m           cmd_obj.run()\r\n",
      "  \u001B[31m   \u001B[0m         File \"/private/var/folders/6v/dfp997q13894cjhs_bzmt6j40000gn/T/pip-install-azpnz_3i/numpy_a03c1500f0a946b8a68c1d892c3dd6b5/numpy/distutils/command/build_src.py\", line 144, in run\r\n",
      "  \u001B[31m   \u001B[0m           self.build_sources()\r\n",
      "  \u001B[31m   \u001B[0m         File \"/private/var/folders/6v/dfp997q13894cjhs_bzmt6j40000gn/T/pip-install-azpnz_3i/numpy_a03c1500f0a946b8a68c1d892c3dd6b5/numpy/distutils/command/build_src.py\", line 155, in build_sources\r\n",
      "  \u001B[31m   \u001B[0m           self.build_library_sources(*libname_info)\r\n",
      "  \u001B[31m   \u001B[0m         File \"/private/var/folders/6v/dfp997q13894cjhs_bzmt6j40000gn/T/pip-install-azpnz_3i/numpy_a03c1500f0a946b8a68c1d892c3dd6b5/numpy/distutils/command/build_src.py\", line 288, in build_library_sources\r\n",
      "  \u001B[31m   \u001B[0m           sources = self.generate_sources(sources, (lib_name, build_info))\r\n",
      "  \u001B[31m   \u001B[0m                     ^^^^^^^^^^^^^^^^^^^^^^^^^^^^^^^^^^^^^^^^^^^^^^^^^^^^^^\r\n",
      "  \u001B[31m   \u001B[0m         File \"/private/var/folders/6v/dfp997q13894cjhs_bzmt6j40000gn/T/pip-install-azpnz_3i/numpy_a03c1500f0a946b8a68c1d892c3dd6b5/numpy/distutils/command/build_src.py\", line 378, in generate_sources\r\n",
      "  \u001B[31m   \u001B[0m           source = func(extension, build_dir)\r\n",
      "  \u001B[31m   \u001B[0m                    ^^^^^^^^^^^^^^^^^^^^^^^^^^\r\n",
      "  \u001B[31m   \u001B[0m         File \"/private/var/folders/6v/dfp997q13894cjhs_bzmt6j40000gn/T/pip-install-azpnz_3i/numpy_a03c1500f0a946b8a68c1d892c3dd6b5/numpy/core/setup.py\", line 708, in get_mathlib_info\r\n",
      "  \u001B[31m   \u001B[0m           raise RuntimeError(\r\n",
      "  \u001B[31m   \u001B[0m       RuntimeError: Broken toolchain: cannot link a simple C program.\r\n",
      "  \u001B[31m   \u001B[0m       [end of output]\r\n",
      "  \u001B[31m   \u001B[0m \r\n",
      "  \u001B[31m   \u001B[0m   note: This error originates from a subprocess, and is likely not a problem with pip.\r\n",
      "  \u001B[31m   \u001B[0m   ERROR: Failed building wheel for numpy\r\n",
      "  \u001B[31m   \u001B[0m Failed to build numpy\r\n",
      "  \u001B[31m   \u001B[0m ERROR: Could not build wheels for numpy, which is required to install pyproject.toml-based projects\r\n",
      "  \u001B[31m   \u001B[0m \r\n",
      "  \u001B[31m   \u001B[0m [notice] A new release of pip available: 22.3.1 -> 23.2.1\r\n",
      "  \u001B[31m   \u001B[0m [notice] To update, run: pip install --upgrade pip\r\n",
      "  \u001B[31m   \u001B[0m \u001B[31m[end of output]\u001B[0m\r\n",
      "  \r\n",
      "  \u001B[1;35mnote\u001B[0m: This error originates from a subprocess, and is likely not a problem with pip.\r\n",
      "\u001B[1;31merror\u001B[0m: \u001B[1msubprocess-exited-with-error\u001B[0m\r\n",
      "\r\n",
      "\u001B[31m×\u001B[0m \u001B[32mpip subprocess to install build dependencies\u001B[0m did not run successfully.\r\n",
      "\u001B[31m│\u001B[0m exit code: \u001B[1;36m1\u001B[0m\r\n",
      "\u001B[31m╰─>\u001B[0m See above for output.\r\n",
      "\r\n",
      "\u001B[1;35mnote\u001B[0m: This error originates from a subprocess, and is likely not a problem with pip.\r\n",
      "\r\n",
      "\u001B[1m[\u001B[0m\u001B[34;49mnotice\u001B[0m\u001B[1;39;49m]\u001B[0m\u001B[39;49m A new release of pip available: \u001B[0m\u001B[31;49m22.3.1\u001B[0m\u001B[39;49m -> \u001B[0m\u001B[32;49m23.2.1\u001B[0m\r\n",
      "\u001B[1m[\u001B[0m\u001B[34;49mnotice\u001B[0m\u001B[1;39;49m]\u001B[0m\u001B[39;49m To update, run: \u001B[0m\u001B[32;49mpip install --upgrade pip\u001B[0m\r\n",
      "\u001B[?25h"
     ]
    }
   ],
   "source": [
    "!pip install -U ultralytics"
   ],
   "metadata": {
    "collapsed": false,
    "ExecuteTime": {
     "start_time": "2023-07-26T13:40:18.961773Z",
     "end_time": "2023-07-26T13:40:52.972341Z"
    }
   }
  },
  {
   "cell_type": "markdown",
   "source": [
    "### Dataload"
   ],
   "metadata": {
    "collapsed": false
   }
  },
  {
   "cell_type": "code",
   "execution_count": null,
   "outputs": [],
   "source": [
    "# https://stackoverflow.com/questions/7106012/download-a-single-folder-or-directory-from-a-github-repo/18194523\n",
    "!svn checkout https://github.com/OlgaBelitskaya/data/trunk/zip_letters ./zip_letters"
   ],
   "metadata": {
    "collapsed": false,
    "ExecuteTime": {
     "start_time": "2023-07-26T13:18:34.718735Z",
     "end_time": "2023-07-26T13:21:30.149316Z"
    }
   }
  },
  {
   "cell_type": "code",
   "execution_count": 51,
   "outputs": [],
   "source": [
    "!mkdir -p ./data/letters"
   ],
   "metadata": {
    "collapsed": false,
    "ExecuteTime": {
     "start_time": "2023-07-26T13:34:45.135402Z",
     "end_time": "2023-07-26T13:34:45.270188Z"
    }
   }
  },
  {
   "cell_type": "code",
   "execution_count": null,
   "outputs": [],
   "source": [
    "!unzip ./zip_letters/00_00_00.zip -d ./data/letters"
   ],
   "metadata": {
    "collapsed": false,
    "ExecuteTime": {
     "start_time": "2023-07-26T13:35:43.686395Z",
     "end_time": "2023-07-26T13:35:44.236092Z"
    }
   }
  },
  {
   "cell_type": "code",
   "execution_count": null,
   "outputs": [],
   "source": [
    "!unzip ./zip_letters/00_01_00.zip -d ./data/letters"
   ],
   "metadata": {
    "collapsed": false,
    "ExecuteTime": {
     "start_time": "2023-07-26T13:37:06.688492Z",
     "end_time": "2023-07-26T13:37:07.230413Z"
    }
   }
  },
  {
   "cell_type": "code",
   "execution_count": 50,
   "outputs": [],
   "source": [],
   "metadata": {
    "collapsed": false,
    "ExecuteTime": {
     "start_time": "2023-07-26T13:34:10.281011Z",
     "end_time": "2023-07-26T13:34:10.405587Z"
    }
   }
  },
  {
   "cell_type": "code",
   "execution_count": null,
   "outputs": [],
   "source": [],
   "metadata": {
    "collapsed": false
   }
  }
 ],
 "metadata": {
  "kernelspec": {
   "display_name": "Python 3",
   "language": "python",
   "name": "python3"
  },
  "language_info": {
   "codemirror_mode": {
    "name": "ipython",
    "version": 2
   },
   "file_extension": ".py",
   "mimetype": "text/x-python",
   "name": "python",
   "nbconvert_exporter": "python",
   "pygments_lexer": "ipython2",
   "version": "2.7.6"
  }
 },
 "nbformat": 4,
 "nbformat_minor": 0
}
